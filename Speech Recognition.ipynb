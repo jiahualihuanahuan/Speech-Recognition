{
 "cells": [
  {
   "cell_type": "code",
   "execution_count": 1,
   "id": "f5589788",
   "metadata": {},
   "outputs": [
    {
     "data": {
      "text/plain": [
       "'3.8.1'"
      ]
     },
     "execution_count": 1,
     "metadata": {},
     "output_type": "execute_result"
    }
   ],
   "source": [
    "import speech_recognition as sr\n",
    "sr.__version__"
   ]
  },
  {
   "cell_type": "code",
   "execution_count": 2,
   "id": "1d0b266c",
   "metadata": {},
   "outputs": [],
   "source": [
    "r = sr.Recognizer()"
   ]
  },
  {
   "cell_type": "code",
   "execution_count": 9,
   "id": "a3aaddf0",
   "metadata": {},
   "outputs": [],
   "source": [
    "example = sr.AudioFile('./example.wav')\n",
    "with example as source:\n",
    "    audio1 = r.record(source, duration=35)\n",
    "    audio2 = r.record(source, duration=35)\n",
    "    audio3 = r.record(source, duration=35)\n",
    "    audio4 = r.record(source, duration=35)"
   ]
  },
  {
   "cell_type": "code",
   "execution_count": 10,
   "id": "28a090a3",
   "metadata": {},
   "outputs": [
    {
     "data": {
      "text/plain": [
       "speech_recognition.AudioData"
      ]
     },
     "execution_count": 10,
     "metadata": {},
     "output_type": "execute_result"
    }
   ],
   "source": [
    "type(audio1)"
   ]
  },
  {
   "cell_type": "code",
   "execution_count": 11,
   "id": "3a2b27e3",
   "metadata": {},
   "outputs": [
    {
     "data": {
      "text/plain": [
       "\"outfielder populating correctly the archival component for transactions of this unit again new rules heavy-hitters regression we have Visa direct simply sorry consumer units if he dies simply consumer Applebee's ASG validation of transactions for this unit our road to proper SMS unit hit and no-hit transactions for this consumer units the store system receives all responses correctly workflow validate\""
      ]
     },
     "execution_count": 11,
     "metadata": {},
     "output_type": "execute_result"
    }
   ],
   "source": [
    "r.recognize_google(audio1)"
   ]
  },
  {
   "cell_type": "code",
   "execution_count": 12,
   "id": "59d4e873",
   "metadata": {},
   "outputs": [
    {
     "data": {
      "text/plain": [
       "'the data is Flowing to Azle Madison Oldfield or populating correctly the archival component for transactions of this unit and again new rules Heavy Hitters and regression or hear the reports the ability to generate the following reports on a daily basis leveraging Advanced reporting module provided by the vendor table reports escalated transactions report cancelled and failed transaction report hit transaction report message data for hit transactions report his status report an operator activity report'"
      ]
     },
     "execution_count": 12,
     "metadata": {},
     "output_type": "execute_result"
    }
   ],
   "source": [
    "r.recognize_google(audio2)"
   ]
  },
  {
   "cell_type": "code",
   "execution_count": 13,
   "id": "8a0d6784",
   "metadata": {},
   "outputs": [
    {
     "data": {
      "text/plain": [
       "'borsari out-of-scope so best 30 changes any other validation not listed in section 3.1 archiving Phase 2 I access to the archived data rationale program planned to provide a solution post go-live for iws LMS migration technical error from SMS to iws not produced in the test environment'"
      ]
     },
     "execution_count": 13,
     "metadata": {},
     "output_type": "execute_result"
    }
   ],
   "source": [
    "r.recognize_google(audio3)"
   ]
  },
  {
   "cell_type": "code",
   "execution_count": 14,
   "id": "27a8a8ca",
   "metadata": {},
   "outputs": [
    {
     "data": {
      "text/plain": [
       "'validation of Farkle utility tool such as FS classic SML fum and FM investigations performed outside of her Coke and continuity back and Evie Advanced modules components rational databases of vendor propriety and is Black Box CIBC stripping detector and decision replication functionality detail business rules validation for their existing consumers any new rule other any new rules other than indicated will be handled through new intakes any detail validation'"
      ]
     },
     "execution_count": 14,
     "metadata": {},
     "output_type": "execute_result"
    }
   ],
   "source": [
    "r.recognize_google(audio4)"
   ]
  },
  {
   "cell_type": "code",
   "execution_count": null,
   "id": "a56c1761",
   "metadata": {},
   "outputs": [],
   "source": []
  }
 ],
 "metadata": {
  "kernelspec": {
   "display_name": "Python 3 (ipykernel)",
   "language": "python",
   "name": "python3"
  },
  "language_info": {
   "codemirror_mode": {
    "name": "ipython",
    "version": 3
   },
   "file_extension": ".py",
   "mimetype": "text/x-python",
   "name": "python",
   "nbconvert_exporter": "python",
   "pygments_lexer": "ipython3",
   "version": "3.8.10"
  }
 },
 "nbformat": 4,
 "nbformat_minor": 5
}
